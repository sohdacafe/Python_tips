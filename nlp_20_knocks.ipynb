{
  "nbformat": 4,
  "nbformat_minor": 0,
  "metadata": {
    "colab": {
      "name": "nlp_20_knocks.ipynb",
      "provenance": [],
      "collapsed_sections": [],
      "mount_file_id": "1xNufYLxJtcWdCti44TgcgIDYC2HjIywf",
      "authorship_tag": "ABX9TyMZtI3T8KAcWbxP92mCSaGk",
      "include_colab_link": true
    },
    "kernelspec": {
      "name": "python3",
      "display_name": "Python 3"
    },
    "language_info": {
      "name": "python"
    }
  },
  "cells": [
    {
      "cell_type": "markdown",
      "metadata": {
        "id": "view-in-github",
        "colab_type": "text"
      },
      "source": [
        "<a href=\"https://colab.research.google.com/github/sohdacafe/Python_tips/blob/main/nlp_20_knocks.ipynb\" target=\"_parent\"><img src=\"https://colab.research.google.com/assets/colab-badge.svg\" alt=\"Open In Colab\"/></a>"
      ]
    },
    {
      "cell_type": "code",
      "metadata": {
        "colab": {
          "base_uri": "https://localhost:8080/"
        },
        "id": "O8oLVfaTrEcA",
        "outputId": "59347621-ea3c-4c3f-bce8-f4f1d1f43ca2"
      },
      "source": [
        "# MeCabをインストールを行う準備\n",
        "!apt install aptitude \n",
        "!aptitude install mecab libmecab-dev mecab-ipadic-utf8 git make curl xz-utils file -y\n",
        "!pip install mecab-python3==0.7"
      ],
      "execution_count": 32,
      "outputs": [
        {
          "output_type": "stream",
          "name": "stdout",
          "text": [
            "Reading package lists... Done\n",
            "Building dependency tree       \n",
            "Reading state information... Done\n",
            "aptitude is already the newest version (0.8.10-6ubuntu1).\n",
            "0 upgraded, 0 newly installed, 0 to remove and 37 not upgraded.\n",
            "mecab is already installed at the requested version (0.996-5)\n",
            "libmecab-dev is already installed at the requested version (0.996-5)\n",
            "mecab-ipadic-utf8 is already installed at the requested version (2.7.0-20070801+main-1)\n",
            "git is already installed at the requested version (1:2.17.1-1ubuntu0.9)\n",
            "make is already installed at the requested version (4.1-9.1ubuntu1)\n",
            "curl is already installed at the requested version (7.58.0-2ubuntu3.16)\n",
            "xz-utils is already installed at the requested version (5.2.2-1.3)\n",
            "file is already installed at the requested version (1:5.32-2ubuntu0.4)\n",
            "mecab is already installed at the requested version (0.996-5)\n",
            "libmecab-dev is already installed at the requested version (0.996-5)\n",
            "mecab-ipadic-utf8 is already installed at the requested version (2.7.0-20070801+main-1)\n",
            "git is already installed at the requested version (1:2.17.1-1ubuntu0.9)\n",
            "make is already installed at the requested version (4.1-9.1ubuntu1)\n",
            "curl is already installed at the requested version (7.58.0-2ubuntu3.16)\n",
            "xz-utils is already installed at the requested version (5.2.2-1.3)\n",
            "file is already installed at the requested version (1:5.32-2ubuntu0.4)\n",
            "No packages will be installed, upgraded, or removed.\n",
            "0 packages upgraded, 0 newly installed, 0 to remove and 37 not upgraded.\n",
            "Need to get 0 B of archives. After unpacking 0 B will be used.\n",
            "                            \n",
            "Requirement already satisfied: mecab-python3==0.7 in /usr/local/lib/python3.7/dist-packages (0.7)\n"
          ]
        }
      ]
    },
    {
      "cell_type": "code",
      "metadata": {
        "id": "qjcuA72cssUX"
      },
      "source": [
        "import MeCab\n",
        "from glob import glob"
      ],
      "execution_count": 33,
      "outputs": []
    },
    {
      "cell_type": "code",
      "metadata": {
        "id": "7nJIPdvGwhE9"
      },
      "source": [
        "# ファイル書き込み作成\n",
        "txt = 'こんちは'\n",
        "with open('output_7.txt', 'x') as f:\n",
        "  f.write(txt)"
      ],
      "execution_count": 34,
      "outputs": []
    },
    {
      "cell_type": "code",
      "metadata": {
        "colab": {
          "base_uri": "https://localhost:8080/",
          "height": 36
        },
        "id": "Z89htIdCsylP",
        "outputId": "3dc1a935-903e-4ad2-a72f-1cca05ada97c"
      },
      "source": [
        "# cd ..\n",
        "filepaths = glob('*.txt')\n",
        "filepaths\n",
        "filepaths[2]"
      ],
      "execution_count": 35,
      "outputs": [
        {
          "output_type": "execute_result",
          "data": {
            "application/vnd.google.colaboratory.intrinsic+json": {
              "type": "string"
            },
            "text/plain": [
              "'output_7.txt'"
            ]
          },
          "metadata": {},
          "execution_count": 35
        }
      ]
    },
    {
      "cell_type": "code",
      "metadata": {
        "id": "jsRiCwS1undJ",
        "colab": {
          "base_uri": "https://localhost:8080/",
          "height": 36
        },
        "outputId": "e2e05c8a-577b-42f5-c9ae-06e80a8d3812"
      },
      "source": [
        "filepath = filepaths[1]\n",
        "with open(filepath, 'r', encoding='shift-jis') as f:\n",
        "  txt = f.read()\n",
        "txt"
      ],
      "execution_count": 36,
      "outputs": [
        {
          "output_type": "execute_result",
          "data": {
            "application/vnd.google.colaboratory.intrinsic+json": {
              "type": "string"
            },
            "text/plain": [
              "'縺薙ｓ縺｡縺ｯ'"
            ]
          },
          "metadata": {},
          "execution_count": 36
        }
      ]
    },
    {
      "cell_type": "code",
      "metadata": {
        "id": "zMlV4RR-tCsN",
        "colab": {
          "base_uri": "https://localhost:8080/",
          "height": 36
        },
        "outputId": "41c43930-b11b-4ee2-d569-caf4a3eb87b8"
      },
      "source": [
        "# MeCabでの形態素解析\n",
        "tagger = MeCab.Tagger()\n",
        "parsed_txt = tagger.parse(txt) #parseは切り分ける\n",
        "parsed_txt # print(t_text)では改行シーケンスなどを読み込んで出力している"
      ],
      "execution_count": 37,
      "outputs": [
        {
          "output_type": "execute_result",
          "data": {
            "application/vnd.google.colaboratory.intrinsic+json": {
              "type": "string"
            },
            "text/plain": [
              "'縺薙\\t名詞,一般,*,*,*,*,*\\nｓ\\t記号,アルファベット,*,*,*,*,ｓ,エス,エス\\n縺\\t名詞,一般,*,*,*,*,*\\n｡\\t名詞,サ変接続,*,*,*,*,*\\n縺\\t名詞,一般,*,*,*,*,*\\nｯ\\t名詞,一般,*,*,*,*,*\\nEOS\\n'"
            ]
          },
          "metadata": {},
          "execution_count": 37
        }
      ]
    },
    {
      "cell_type": "code",
      "metadata": {
        "id": "eMLodf83tCvf",
        "colab": {
          "base_uri": "https://localhost:8080/"
        },
        "outputId": "4e38eadc-c58b-46fb-923c-17f7b07b8bb4"
      },
      "source": [
        "# Chasenでの形態素解析\n",
        "tagger = MeCab.Tagger('-Ochasen') #Output chasen形式 \n",
        "print(tagger.parse(txt))"
      ],
      "execution_count": 38,
      "outputs": [
        {
          "output_type": "stream",
          "name": "stdout",
          "text": [
            "縺薙\t縺薙\t縺薙\t名詞-一般\t\t\n",
            "ｓ\tエス\tｓ\t記号-アルファベット\t\t\n",
            "縺\t縺\t縺\t名詞-一般\t\t\n",
            "｡\t｡\t｡\t名詞-サ変接続\t\t\n",
            "縺\t縺\t縺\t名詞-一般\t\t\n",
            "ｯ\tｯ\tｯ\t名詞-一般\t\t\n",
            "EOS\n",
            "\n"
          ]
        }
      ]
    },
    {
      "cell_type": "code",
      "metadata": {
        "id": "M8MKPKultC2E",
        "colab": {
          "base_uri": "https://localhost:8080/"
        },
        "outputId": "3503bc21-6d8c-40d1-d8a6-3e7d6ee1363c"
      },
      "source": [
        "# 分かち書き\n",
        "tagger = MeCab.Tagger('-Owakati')  \n",
        "print(tagger.parse(txt))"
      ],
      "execution_count": 39,
      "outputs": [
        {
          "output_type": "stream",
          "name": "stdout",
          "text": [
            "縺薙 ｓ 縺 ｡ 縺 ｯ \n",
            "\n"
          ]
        }
      ]
    },
    {
      "cell_type": "code",
      "metadata": {
        "id": "0zg0DmIjW44C",
        "colab": {
          "base_uri": "https://localhost:8080/"
        },
        "outputId": "4531fa35-9fe7-4ef1-d927-b17ba68c0d30"
      },
      "source": [
        "# カタカナ変換出力\n",
        "tagger = MeCab.Tagger('-Oyomi')  \n",
        "print(tagger.parse(txt))"
      ],
      "execution_count": 40,
      "outputs": [
        {
          "output_type": "stream",
          "name": "stdout",
          "text": [
            "縺薙エス縺｡縺ｯ\n",
            "\n"
          ]
        }
      ]
    },
    {
      "cell_type": "code",
      "metadata": {
        "id": "vu8OiPv4W5Dg",
        "colab": {
          "base_uri": "https://localhost:8080/"
        },
        "outputId": "d8792c55-bb7b-4417-dbb3-3d10f02a7abc"
      },
      "source": [
        "# 品詞の分類\n",
        "elements = parsed_txt.split('\\n')[:-2] # \\nで改行されているので、そこで分割。最終2行は不要なので、除く\n",
        "elements[0:10]"
      ],
      "execution_count": 41,
      "outputs": [
        {
          "output_type": "execute_result",
          "data": {
            "text/plain": [
              "['縺薙\\t名詞,一般,*,*,*,*,*',\n",
              " 'ｓ\\t記号,アルファベット,*,*,*,*,ｓ,エス,エス',\n",
              " '縺\\t名詞,一般,*,*,*,*,*',\n",
              " '｡\\t名詞,サ変接続,*,*,*,*,*',\n",
              " '縺\\t名詞,一般,*,*,*,*,*',\n",
              " 'ｯ\\t名詞,一般,*,*,*,*,*']"
            ]
          },
          "metadata": {},
          "execution_count": 41
        }
      ]
    },
    {
      "cell_type": "code",
      "metadata": {
        "id": "8BAjQ1EFW5GX"
      },
      "source": [
        "element = elements[0]\n",
        "parts = element.split(',') # elementsから1行抜き出し、カンマ区切りに分割\n",
        "surface_pos = parts[0] # 単語と品詞を取ってくる\n",
        "pos1 = parts[1] # 品詞を取ってくる\n",
        "base = parts[-3] # 原形を取ってくる"
      ],
      "execution_count": 42,
      "outputs": []
    },
    {
      "cell_type": "code",
      "metadata": {
        "id": "yQjtNx-sag6T"
      },
      "source": [
        "surface, pos = surface_pos.split('\\t') # タブ区切りでsurfase_posのリストを分割([0], [1]に分割)"
      ],
      "execution_count": 43,
      "outputs": []
    },
    {
      "cell_type": "code",
      "metadata": {
        "id": "WMyl4VLqbn2g",
        "colab": {
          "base_uri": "https://localhost:8080/",
          "height": 36
        },
        "outputId": "574e2e47-22fc-4bfa-d41f-85c5168bc970"
      },
      "source": [
        "surface"
      ],
      "execution_count": 44,
      "outputs": [
        {
          "output_type": "execute_result",
          "data": {
            "application/vnd.google.colaboratory.intrinsic+json": {
              "type": "string"
            },
            "text/plain": [
              "'縺薙'"
            ]
          },
          "metadata": {},
          "execution_count": 44
        }
      ]
    },
    {
      "cell_type": "code",
      "metadata": {
        "id": "5wJv_fpPbpOE"
      },
      "source": [
        "results = []\n",
        "\n",
        "for element in elements:\n",
        "    parts = element.split(',')\n",
        "    surface_pos, pos1, base = parts[0], parts[1], parts[-3]\n",
        "    surface, pos = surface_pos.split('\\t')\n",
        "    results.append(dict(表層形=surface, 基本形=base, 品詞=pos, 品詞1=pos1)) # dict形式で格納(keyとvalueを'='で結びつける)"
      ],
      "execution_count": 45,
      "outputs": []
    },
    {
      "cell_type": "code",
      "metadata": {
        "id": "C_M_nerucz3M",
        "colab": {
          "base_uri": "https://localhost:8080/"
        },
        "outputId": "4d4060f1-cbb8-43f8-fc95-d4ab54cf3581"
      },
      "source": [
        "results[0:10]"
      ],
      "execution_count": 46,
      "outputs": [
        {
          "output_type": "execute_result",
          "data": {
            "text/plain": [
              "[{'品詞': '名詞', '品詞1': '一般', '基本形': '*', '表層形': '縺薙'},\n",
              " {'品詞': '記号', '品詞1': 'アルファベット', '基本形': 'ｓ', '表層形': 'ｓ'},\n",
              " {'品詞': '名詞', '品詞1': '一般', '基本形': '*', '表層形': '縺'},\n",
              " {'品詞': '名詞', '品詞1': 'サ変接続', '基本形': '*', '表層形': '｡'},\n",
              " {'品詞': '名詞', '品詞1': '一般', '基本形': '*', '表層形': '縺'},\n",
              " {'品詞': '名詞', '品詞1': '一般', '基本形': '*', '表層形': 'ｯ'}]"
            ]
          },
          "metadata": {},
          "execution_count": 46
        }
      ]
    },
    {
      "cell_type": "code",
      "metadata": {
        "id": "SV6lqEImcz53",
        "colab": {
          "base_uri": "https://localhost:8080/"
        },
        "outputId": "1522a68a-d24e-4bfb-b2af-c2dcc12d7b84"
      },
      "source": [
        "# 品詞の抽出\n",
        "result = results[0]\n",
        "result"
      ],
      "execution_count": 47,
      "outputs": [
        {
          "output_type": "execute_result",
          "data": {
            "text/plain": [
              "{'品詞': '名詞', '品詞1': '一般', '基本形': '*', '表層形': '縺薙'}"
            ]
          },
          "metadata": {},
          "execution_count": 47
        }
      ]
    },
    {
      "cell_type": "code",
      "metadata": {
        "id": "dc3racaBcz8e",
        "colab": {
          "base_uri": "https://localhost:8080/",
          "height": 245
        },
        "outputId": "1df45188-8a0b-4e94-e313-ba700b059611"
      },
      "source": [
        "# set型を用いて重複の無いように抽出(動詞)\n",
        "surface_verbs = set()\n",
        "for result in results:\n",
        "    if result['品詞'] == '動詞':\n",
        "        surface_verbs.add(result['表層形'])\n",
        "\n",
        "surface_verbs"
      ],
      "execution_count": 12,
      "outputs": [
        {
          "output_type": "error",
          "ename": "NameError",
          "evalue": "ignored",
          "traceback": [
            "\u001b[0;31m---------------------------------------------------------------------------\u001b[0m",
            "\u001b[0;31mNameError\u001b[0m                                 Traceback (most recent call last)",
            "\u001b[0;32m<ipython-input-12-128d28bbe27b>\u001b[0m in \u001b[0;36m<module>\u001b[0;34m()\u001b[0m\n\u001b[1;32m      1\u001b[0m \u001b[0;31m# set型を用いて重複の無いように抽出(動詞)\u001b[0m\u001b[0;34m\u001b[0m\u001b[0;34m\u001b[0m\u001b[0;34m\u001b[0m\u001b[0m\n\u001b[1;32m      2\u001b[0m \u001b[0msurface_verbs\u001b[0m \u001b[0;34m=\u001b[0m \u001b[0mset\u001b[0m\u001b[0;34m(\u001b[0m\u001b[0;34m)\u001b[0m\u001b[0;34m\u001b[0m\u001b[0;34m\u001b[0m\u001b[0m\n\u001b[0;32m----> 3\u001b[0;31m \u001b[0;32mfor\u001b[0m \u001b[0mresult\u001b[0m \u001b[0;32min\u001b[0m \u001b[0mresults\u001b[0m\u001b[0;34m:\u001b[0m\u001b[0;34m\u001b[0m\u001b[0;34m\u001b[0m\u001b[0m\n\u001b[0m\u001b[1;32m      4\u001b[0m     \u001b[0;32mif\u001b[0m \u001b[0mresult\u001b[0m\u001b[0;34m[\u001b[0m\u001b[0;34m'品詞'\u001b[0m\u001b[0;34m]\u001b[0m \u001b[0;34m==\u001b[0m \u001b[0;34m'動詞'\u001b[0m\u001b[0;34m:\u001b[0m\u001b[0;34m\u001b[0m\u001b[0;34m\u001b[0m\u001b[0m\n\u001b[1;32m      5\u001b[0m         \u001b[0msurface_verbs\u001b[0m\u001b[0;34m.\u001b[0m\u001b[0madd\u001b[0m\u001b[0;34m(\u001b[0m\u001b[0mresult\u001b[0m\u001b[0;34m[\u001b[0m\u001b[0;34m'表層形'\u001b[0m\u001b[0;34m]\u001b[0m\u001b[0;34m)\u001b[0m\u001b[0;34m\u001b[0m\u001b[0;34m\u001b[0m\u001b[0m\n",
            "\u001b[0;31mNameError\u001b[0m: name 'results' is not defined"
          ]
        }
      ]
    },
    {
      "cell_type": "code",
      "metadata": {
        "id": "1yumsk5ucz_s",
        "colab": {
          "base_uri": "https://localhost:8080/",
          "height": 245
        },
        "outputId": "64bc2c97-d3d1-4552-ad9a-a237964f8487"
      },
      "source": [
        "# set型を用いて重複の無いように抽出(基本形)\n",
        "base_verbs = set()\n",
        "for result in results:\n",
        "    if result['品詞'] == '動詞':\n",
        "        base_verbs.add(result['基本形'])\n",
        "\n",
        "base_verbs"
      ],
      "execution_count": 11,
      "outputs": [
        {
          "output_type": "error",
          "ename": "NameError",
          "evalue": "ignored",
          "traceback": [
            "\u001b[0;31m---------------------------------------------------------------------------\u001b[0m",
            "\u001b[0;31mNameError\u001b[0m                                 Traceback (most recent call last)",
            "\u001b[0;32m<ipython-input-11-4d4a625fa1fa>\u001b[0m in \u001b[0;36m<module>\u001b[0;34m()\u001b[0m\n\u001b[1;32m      1\u001b[0m \u001b[0;31m# set型を用いて重複の無いように抽出(基本形)\u001b[0m\u001b[0;34m\u001b[0m\u001b[0;34m\u001b[0m\u001b[0;34m\u001b[0m\u001b[0m\n\u001b[1;32m      2\u001b[0m \u001b[0mbase_verbs\u001b[0m \u001b[0;34m=\u001b[0m \u001b[0mset\u001b[0m\u001b[0;34m(\u001b[0m\u001b[0;34m)\u001b[0m\u001b[0;34m\u001b[0m\u001b[0;34m\u001b[0m\u001b[0m\n\u001b[0;32m----> 3\u001b[0;31m \u001b[0;32mfor\u001b[0m \u001b[0mresult\u001b[0m \u001b[0;32min\u001b[0m \u001b[0mresults\u001b[0m\u001b[0;34m:\u001b[0m\u001b[0;34m\u001b[0m\u001b[0;34m\u001b[0m\u001b[0m\n\u001b[0m\u001b[1;32m      4\u001b[0m     \u001b[0;32mif\u001b[0m \u001b[0mresult\u001b[0m\u001b[0;34m[\u001b[0m\u001b[0;34m'品詞'\u001b[0m\u001b[0;34m]\u001b[0m \u001b[0;34m==\u001b[0m \u001b[0;34m'動詞'\u001b[0m\u001b[0;34m:\u001b[0m\u001b[0;34m\u001b[0m\u001b[0;34m\u001b[0m\u001b[0m\n\u001b[1;32m      5\u001b[0m         \u001b[0mbase_verbs\u001b[0m\u001b[0;34m.\u001b[0m\u001b[0madd\u001b[0m\u001b[0;34m(\u001b[0m\u001b[0mresult\u001b[0m\u001b[0;34m[\u001b[0m\u001b[0;34m'基本形'\u001b[0m\u001b[0;34m]\u001b[0m\u001b[0;34m)\u001b[0m\u001b[0;34m\u001b[0m\u001b[0;34m\u001b[0m\u001b[0m\n",
            "\u001b[0;31mNameError\u001b[0m: name 'results' is not defined"
          ]
        }
      ]
    },
    {
      "cell_type": "code",
      "metadata": {
        "id": "cNYRlIeWhDeh",
        "colab": {
          "base_uri": "https://localhost:8080/",
          "height": 245
        },
        "outputId": "f5245a24-ac93-4399-b413-daed01d2c23e"
      },
      "source": [
        "# 単語の頻出度の算出、辞書の作製\n",
        "from collections import defaultdict\n",
        "word_freq = defaultdict(int)\n",
        "\n",
        "for result in results:\n",
        "    if result['品詞'] != '記号':\n",
        "        word_freq[result['基本形']] += 1 \n",
        "word_freq\n",
        "\n",
        "# 記号以外を追加\n",
        "# defaultdictは初期のキーがなくても追加して作成してくれる"
      ],
      "execution_count": 10,
      "outputs": [
        {
          "output_type": "error",
          "ename": "NameError",
          "evalue": "ignored",
          "traceback": [
            "\u001b[0;31m---------------------------------------------------------------------------\u001b[0m",
            "\u001b[0;31mNameError\u001b[0m                                 Traceback (most recent call last)",
            "\u001b[0;32m<ipython-input-10-0e850a124ff9>\u001b[0m in \u001b[0;36m<module>\u001b[0;34m()\u001b[0m\n\u001b[1;32m      3\u001b[0m \u001b[0mword_freq\u001b[0m \u001b[0;34m=\u001b[0m \u001b[0mdefaultdict\u001b[0m\u001b[0;34m(\u001b[0m\u001b[0mint\u001b[0m\u001b[0;34m)\u001b[0m\u001b[0;34m\u001b[0m\u001b[0;34m\u001b[0m\u001b[0m\n\u001b[1;32m      4\u001b[0m \u001b[0;34m\u001b[0m\u001b[0m\n\u001b[0;32m----> 5\u001b[0;31m \u001b[0;32mfor\u001b[0m \u001b[0mresult\u001b[0m \u001b[0;32min\u001b[0m \u001b[0mresults\u001b[0m\u001b[0;34m:\u001b[0m\u001b[0;34m\u001b[0m\u001b[0;34m\u001b[0m\u001b[0m\n\u001b[0m\u001b[1;32m      6\u001b[0m     \u001b[0;32mif\u001b[0m \u001b[0mresult\u001b[0m\u001b[0;34m[\u001b[0m\u001b[0;34m'品詞'\u001b[0m\u001b[0;34m]\u001b[0m \u001b[0;34m!=\u001b[0m \u001b[0;34m'記号'\u001b[0m\u001b[0;34m:\u001b[0m\u001b[0;34m\u001b[0m\u001b[0;34m\u001b[0m\u001b[0m\n\u001b[1;32m      7\u001b[0m         \u001b[0mword_freq\u001b[0m\u001b[0;34m[\u001b[0m\u001b[0mresult\u001b[0m\u001b[0;34m[\u001b[0m\u001b[0;34m'基本形'\u001b[0m\u001b[0;34m]\u001b[0m\u001b[0;34m]\u001b[0m \u001b[0;34m+=\u001b[0m \u001b[0;36m1\u001b[0m\u001b[0;34m\u001b[0m\u001b[0;34m\u001b[0m\u001b[0m\n",
            "\u001b[0;31mNameError\u001b[0m: name 'results' is not defined"
          ]
        }
      ]
    },
    {
      "cell_type": "code",
      "metadata": {
        "id": "RPL2E_aI_AHJ",
        "colab": {
          "base_uri": "https://localhost:8080/"
        },
        "outputId": "1d4e5632-6323-421a-fb49-f5eff3bcaabf"
      },
      "source": [
        "# matplotlibの日本語化\n",
        "! pip install japanize_matplotlib\n",
        "import matplotlib.pyplot as plt\n",
        "import japanize_matplotlib\n",
        "%matplotlib inline"
      ],
      "execution_count": 51,
      "outputs": [
        {
          "output_type": "stream",
          "name": "stdout",
          "text": [
            "Requirement already satisfied: japanize_matplotlib in /usr/local/lib/python3.7/dist-packages (1.1.3)\n",
            "Requirement already satisfied: matplotlib in /usr/local/lib/python3.7/dist-packages (from japanize_matplotlib) (3.2.2)\n",
            "Requirement already satisfied: kiwisolver>=1.0.1 in /usr/local/lib/python3.7/dist-packages (from matplotlib->japanize_matplotlib) (1.3.2)\n",
            "Requirement already satisfied: python-dateutil>=2.1 in /usr/local/lib/python3.7/dist-packages (from matplotlib->japanize_matplotlib) (2.8.2)\n",
            "Requirement already satisfied: cycler>=0.10 in /usr/local/lib/python3.7/dist-packages (from matplotlib->japanize_matplotlib) (0.10.0)\n",
            "Requirement already satisfied: pyparsing!=2.0.4,!=2.1.2,!=2.1.6,>=2.0.1 in /usr/local/lib/python3.7/dist-packages (from matplotlib->japanize_matplotlib) (2.4.7)\n",
            "Requirement already satisfied: numpy>=1.11 in /usr/local/lib/python3.7/dist-packages (from matplotlib->japanize_matplotlib) (1.19.5)\n",
            "Requirement already satisfied: six in /usr/local/lib/python3.7/dist-packages (from cycler>=0.10->matplotlib->japanize_matplotlib) (1.15.0)\n"
          ]
        }
      ]
    },
    {
      "cell_type": "code",
      "metadata": {
        "id": "VNBD0bpPAdrq"
      },
      "source": [
        "# 単語の頻出順に並び替え"
      ],
      "execution_count": 52,
      "outputs": []
    },
    {
      "cell_type": "code",
      "metadata": {
        "id": "gjYaNnpP55oi",
        "colab": {
          "base_uri": "https://localhost:8080/"
        },
        "outputId": "dfbd0db5-159e-4217-eae3-2fcf67f2cbfd"
      },
      "source": [
        "# リスト型に変換\n",
        "word_freq.items()"
      ],
      "execution_count": 53,
      "outputs": [
        {
          "output_type": "execute_result",
          "data": {
            "text/plain": [
              "dict_items([('*', 5)])"
            ]
          },
          "metadata": {},
          "execution_count": 53
        }
      ]
    },
    {
      "cell_type": "code",
      "metadata": {
        "id": "wXDusnqoAmsm",
        "colab": {
          "base_uri": "https://localhost:8080/"
        },
        "outputId": "9d4f28db-56e4-4f74-ca5e-dce668feac0e"
      },
      "source": [
        "# 辞書型をリスト型に変換し、出現回数を基にソート\n",
        "sorted_word_freq = sorted(word_freq.items(), key=lambda x:x[1], reverse=True)\n",
        "# x0がリストの左、x1がリストの右のイメージ。x[1]を基準にソートする\n",
        "sorted_word_freq[0:10]"
      ],
      "execution_count": 54,
      "outputs": [
        {
          "output_type": "execute_result",
          "data": {
            "text/plain": [
              "[('*', 5)]"
            ]
          },
          "metadata": {},
          "execution_count": 54
        }
      ]
    },
    {
      "cell_type": "code",
      "metadata": {
        "id": "8PP5fryOAmu7",
        "colab": {
          "base_uri": "https://localhost:8080/"
        },
        "outputId": "25adf6cf-e7fb-407a-e2ce-aaddc1e812b5"
      },
      "source": [
        "# 内包表記で取り出し\n",
        "keys = [_[0] for _ in sorted_word_freq[0:10]]\n",
        "values = [_[1] for _ in sorted_word_freq[0:10]]\n",
        "keys"
      ],
      "execution_count": 55,
      "outputs": [
        {
          "output_type": "execute_result",
          "data": {
            "text/plain": [
              "['*']"
            ]
          },
          "metadata": {},
          "execution_count": 55
        }
      ]
    },
    {
      "cell_type": "code",
      "metadata": {
        "id": "bNL6f_d0AmxY",
        "colab": {
          "base_uri": "https://localhost:8080/",
          "height": 264
        },
        "outputId": "9232250f-e6d5-45e8-c3af-20c25bb35fe1"
      },
      "source": [
        "plt.figure(figsize=(8,4))\n",
        "plt.bar(keys, values)\n",
        "plt.show()"
      ],
      "execution_count": 56,
      "outputs": [
        {
          "output_type": "display_data",
          "data": {
            "image/png": "[encoded data removed]",
            "text/plain": [
              "<Figure size 576x288 with 1 Axes>"
            ]
          },
          "metadata": {
            "needs_background": "light"
          }
        }
      ]
    },
    {
      "cell_type": "code",
      "metadata": {
        "id": "YDn1YhZLAmzZ"
      },
      "source": [
        "# 出現頻度、出現回数をヒストグラム化"
      ],
      "execution_count": 57,
      "outputs": []
    },
    {
      "cell_type": "code",
      "metadata": {
        "id": "xOUJmz63Am2y",
        "colab": {
          "base_uri": "https://localhost:8080/",
          "height": 295
        },
        "outputId": "1392a468-1601-475a-ba22-66707c944839"
      },
      "source": [
        "n_values = word_freq.values()\n",
        "plt.figure(figsize=(8,4))\n",
        "plt.hist(n_values, bins=50)\n",
        "plt.xlabel('出現回数')\n",
        "plt.ylabel('単語の種類')"
      ],
      "execution_count": 58,
      "outputs": [
        {
          "output_type": "execute_result",
          "data": {
            "text/plain": [
              "Text(0, 0.5, '単語の種類')"
            ]
          },
          "metadata": {},
          "execution_count": 58
        },
        {
          "output_type": "display_data",
          "data": {
            "image/png": "[encoded data removed]",
            "text/plain": [
              "<Figure size 576x288 with 1 Axes>"
            ]
          },
          "metadata": {
            "needs_background": "light"
          }
        }
      ]
    },
    {
      "cell_type": "code",
      "metadata": {
        "id": "CjblZ9k08f9S"
      },
      "source": [
        "# N-gram(文字単位)\n",
        "# N-gramはある単位で文字または単語単位でまとめたもの。2つであればbi-gram、3つであればtri-gram"
      ],
      "execution_count": 59,
      "outputs": []
    },
    {
      "cell_type": "code",
      "metadata": {
        "colab": {
          "base_uri": "https://localhost:8080/",
          "height": 36
        },
        "id": "T9JNYDbfUHkz",
        "outputId": "3e6e756b-39ec-4b4f-f51d-b7163094fe27"
      },
      "source": [
        "text2 = '今日は晴れです。'\n",
        "text2"
      ],
      "execution_count": 60,
      "outputs": [
        {
          "output_type": "execute_result",
          "data": {
            "application/vnd.google.colaboratory.intrinsic+json": {
              "type": "string"
            },
            "text/plain": [
              "'今日は晴れです。'"
            ]
          },
          "metadata": {},
          "execution_count": 60
        }
      ]
    },
    {
      "cell_type": "code",
      "metadata": {
        "colab": {
          "base_uri": "https://localhost:8080/"
        },
        "id": "HuBOiZK_UHnW",
        "outputId": "942212bd-2622-42b4-dbda-e361b6d8bd43"
      },
      "source": [
        "# bi-gram\n",
        "for i in range(len(text2)-1):\n",
        "    print(text2[i:i+2])"
      ],
      "execution_count": 61,
      "outputs": [
        {
          "output_type": "stream",
          "name": "stdout",
          "text": [
            "今日\n",
            "日は\n",
            "は晴\n",
            "晴れ\n",
            "れで\n",
            "です\n",
            "す。\n"
          ]
        }
      ]
    },
    {
      "cell_type": "code",
      "metadata": {
        "colab": {
          "base_uri": "https://localhost:8080/"
        },
        "id": "Gddq5vIKUHqP",
        "outputId": "54e3d8e2-73de-413f-a8cc-4ee6893ffa70"
      },
      "source": [
        "# tri-gram\n",
        "for i in range(len(text2)-2):\n",
        "    print(text2[i:i+3])"
      ],
      "execution_count": 62,
      "outputs": [
        {
          "output_type": "stream",
          "name": "stdout",
          "text": [
            "今日は\n",
            "日は晴\n",
            "は晴れ\n",
            "晴れで\n",
            "れです\n",
            "です。\n"
          ]
        }
      ]
    },
    {
      "cell_type": "code",
      "metadata": {
        "id": "rQ1ukLLiUHtA"
      },
      "source": [
        "# N-gram(単語単位)"
      ],
      "execution_count": 63,
      "outputs": []
    },
    {
      "cell_type": "code",
      "metadata": {
        "colab": {
          "base_uri": "https://localhost:8080/",
          "height": 36
        },
        "id": "v7KnnI77Vmcn",
        "outputId": "7082ffe6-310a-4f36-cdb2-b2835f189a93"
      },
      "source": [
        "text3 = 'Pythonではじめる機械学習を読む。'\n",
        "text3"
      ],
      "execution_count": 64,
      "outputs": [
        {
          "output_type": "execute_result",
          "data": {
            "application/vnd.google.colaboratory.intrinsic+json": {
              "type": "string"
            },
            "text/plain": [
              "'Pythonではじめる機械学習を読む。'"
            ]
          },
          "metadata": {},
          "execution_count": 64
        }
      ]
    },
    {
      "cell_type": "code",
      "metadata": {
        "colab": {
          "base_uri": "https://localhost:8080/",
          "height": 36
        },
        "id": "3nDz2w9BVmfl",
        "outputId": "f93e8c98-235a-4cee-ffae-6dd480a67752"
      },
      "source": [
        "tagger = MeCab.Tagger('-Owakati')\n",
        "tagger.parse(text3)"
      ],
      "execution_count": 65,
      "outputs": [
        {
          "output_type": "execute_result",
          "data": {
            "application/vnd.google.colaboratory.intrinsic+json": {
              "type": "string"
            },
            "text/plain": [
              "'Python ではじめる 機械 学習 を 読む 。 \\n'"
            ]
          },
          "metadata": {},
          "execution_count": 65
        }
      ]
    },
    {
      "cell_type": "code",
      "metadata": {
        "colab": {
          "base_uri": "https://localhost:8080/"
        },
        "id": "3BmsYwKzVmiN",
        "outputId": "f81c9779-92be-40d6-d34b-87281b3e8331"
      },
      "source": [
        "# 半角スペースで分ける、最後の\\nを取らない\n",
        "words = tagger.parse(text3).split(' ')[:-1]\n",
        "words"
      ],
      "execution_count": 66,
      "outputs": [
        {
          "output_type": "execute_result",
          "data": {
            "text/plain": [
              "['Python', 'ではじめる', '機械', '学習', 'を', '読む', '。']"
            ]
          },
          "metadata": {},
          "execution_count": 66
        }
      ]
    },
    {
      "cell_type": "code",
      "metadata": {
        "colab": {
          "base_uri": "https://localhost:8080/",
          "height": 36
        },
        "id": "2ctCavOJVml3",
        "outputId": "719c3f6a-551a-4d81-ecf0-1c688233300c"
      },
      "source": [
        "words[0]"
      ],
      "execution_count": 67,
      "outputs": [
        {
          "output_type": "execute_result",
          "data": {
            "application/vnd.google.colaboratory.intrinsic+json": {
              "type": "string"
            },
            "text/plain": [
              "'Python'"
            ]
          },
          "metadata": {},
          "execution_count": 67
        }
      ]
    },
    {
      "cell_type": "code",
      "metadata": {
        "colab": {
          "base_uri": "https://localhost:8080/"
        },
        "id": "G3VeXfj-Vmnr",
        "outputId": "69c7845d-2969-4143-9979-690d17d229a8"
      },
      "source": [
        "for i in range(len(words)-1):\n",
        "    print(''.join(words[i:i+2]))\n",
        "# 指定した文字でjoinで結合(何も指定しなければそのまま結合)"
      ],
      "execution_count": 68,
      "outputs": [
        {
          "output_type": "stream",
          "name": "stdout",
          "text": [
            "Pythonではじめる\n",
            "ではじめる機械\n",
            "機械学習\n",
            "学習を\n",
            "を読む\n",
            "読む。\n"
          ]
        }
      ]
    },
    {
      "cell_type": "code",
      "metadata": {
        "colab": {
          "base_uri": "https://localhost:8080/"
        },
        "id": "jEE5MwaeVmqU",
        "outputId": "59cdbcba-d736-46e8-d6d2-719622167e7b"
      },
      "source": [
        "for i in range(len(words)-2):\n",
        "    print(''.join(words[i:i+3]))"
      ],
      "execution_count": 69,
      "outputs": [
        {
          "output_type": "stream",
          "name": "stdout",
          "text": [
            "Pythonではじめる機械\n",
            "ではじめる機械学習\n",
            "機械学習を\n",
            "学習を読む\n",
            "を読む。\n"
          ]
        }
      ]
    },
    {
      "cell_type": "code",
      "metadata": {
        "id": "LqSlL_KXUHwJ"
      },
      "source": [
        "# N-gramの関数化\n",
        "text4 = 'こんにちは、Python機械学習へようこそ。'"
      ],
      "execution_count": 70,
      "outputs": []
    },
    {
      "cell_type": "code",
      "metadata": {
        "id": "SOvuNLrTUHyB",
        "colab": {
          "base_uri": "https://localhost:8080/"
        },
        "outputId": "d93f5c39-1122-458e-a429-faf7794ca850"
      },
      "source": [
        "# tri-gram(文字単位)\n",
        "for i in range(len(text2)-2):\n",
        "    print(text2[i:i+3])\n",
        "# tri-gram(単語単位)\n",
        "for i in range(len(words)-2):\n",
        "    print(''.join(words[i:i+3]))"
      ],
      "execution_count": 71,
      "outputs": [
        {
          "output_type": "stream",
          "name": "stdout",
          "text": [
            "今日は\n",
            "日は晴\n",
            "は晴れ\n",
            "晴れで\n",
            "れです\n",
            "です。\n",
            "Pythonではじめる機械\n",
            "ではじめる機械学習\n",
            "機械学習を\n",
            "学習を読む\n",
            "を読む。\n"
          ]
        }
      ]
    },
    {
      "cell_type": "code",
      "metadata": {
        "colab": {
          "base_uri": "https://localhost:8080/"
        },
        "id": "XCRvuiN0j4xz",
        "outputId": "d64fef4f-2f8b-4761-e3d6-80935fe88667"
      },
      "source": [
        "# tri-gramで数値3を定数に。-2はn-1に変更\n",
        "n = 3\n",
        "for i in range(len(text4)-n+1):\n",
        "    print(text4[i:i+n])\n",
        "\n",
        "# 内包表記\n",
        "[words[i:i+n] for i in range(len(words)-n+1)]"
      ],
      "execution_count": 72,
      "outputs": [
        {
          "output_type": "stream",
          "name": "stdout",
          "text": [
            "こんに\n",
            "んにち\n",
            "にちは\n",
            "ちは、\n",
            "は、P\n",
            "、Py\n",
            "Pyt\n",
            "yth\n",
            "tho\n",
            "hon\n",
            "on機\n",
            "n機械\n",
            "機械学\n",
            "械学習\n",
            "学習へ\n",
            "習へよ\n",
            "へよう\n",
            "ようこ\n",
            "うこそ\n",
            "こそ。\n"
          ]
        },
        {
          "output_type": "execute_result",
          "data": {
            "text/plain": [
              "[['Python', 'ではじめる', '機械'],\n",
              " ['ではじめる', '機械', '学習'],\n",
              " ['機械', '学習', 'を'],\n",
              " ['学習', 'を', '読む'],\n",
              " ['を', '読む', '。']]"
            ]
          },
          "metadata": {},
          "execution_count": 72
        }
      ]
    },
    {
      "cell_type": "code",
      "metadata": {
        "id": "zB1kp3wuj405"
      },
      "source": [
        "# 関数で定義\n",
        "# 引数は基の文章といくつに分けるかの値\n",
        "def ngram(text, n):\n",
        "    return [text[i:i+n] for i in range(len(text)-n+1)]"
      ],
      "execution_count": 73,
      "outputs": []
    },
    {
      "cell_type": "code",
      "metadata": {
        "id": "paB96XHwj49y"
      },
      "source": [
        "text = 'こんにちは、Python機械学習へようこそ。'\n",
        "words = tagger.parse(text).split(' ')[:-1]"
      ],
      "execution_count": 74,
      "outputs": []
    },
    {
      "cell_type": "code",
      "metadata": {
        "colab": {
          "base_uri": "https://localhost:8080/"
        },
        "id": "c2jdKKHqj5Br",
        "outputId": "df1ed8d1-7511-43fa-f0f5-93ad29e54b1a"
      },
      "source": [
        "ngram(text, 3)"
      ],
      "execution_count": 75,
      "outputs": [
        {
          "output_type": "execute_result",
          "data": {
            "text/plain": [
              "['こんに',\n",
              " 'んにち',\n",
              " 'にちは',\n",
              " 'ちは、',\n",
              " 'は、P',\n",
              " '、Py',\n",
              " 'Pyt',\n",
              " 'yth',\n",
              " 'tho',\n",
              " 'hon',\n",
              " 'on機',\n",
              " 'n機械',\n",
              " '機械学',\n",
              " '械学習',\n",
              " '学習へ',\n",
              " '習へよ',\n",
              " 'へよう',\n",
              " 'ようこ',\n",
              " 'うこそ',\n",
              " 'こそ。']"
            ]
          },
          "metadata": {},
          "execution_count": 75
        }
      ]
    },
    {
      "cell_type": "code",
      "metadata": {
        "colab": {
          "base_uri": "https://localhost:8080/"
        },
        "id": "JsPhxqM6m1w9",
        "outputId": "a796bc6b-ae2d-4191-96c4-a0e1fbbd78c1"
      },
      "source": [
        "ngram(words, 4)"
      ],
      "execution_count": 76,
      "outputs": [
        {
          "output_type": "execute_result",
          "data": {
            "text/plain": [
              "[['こんにちは', '、', 'Python', '機械'],\n",
              " ['、', 'Python', '機械', '学習'],\n",
              " ['Python', '機械', '学習', 'へ'],\n",
              " ['機械', '学習', 'へ', 'ようこそ'],\n",
              " ['学習', 'へ', 'ようこそ', '。']]"
            ]
          },
          "metadata": {},
          "execution_count": 76
        }
      ]
    },
    {
      "cell_type": "code",
      "metadata": {
        "colab": {
          "base_uri": "https://localhost:8080/"
        },
        "id": "dXFqwzmgm_To",
        "outputId": "95f8edef-c6ea-4646-fb93-44513177e9c2"
      },
      "source": [
        "# 単語ベクトル読み込み(google_newsの学習済み単語ベクトル(1000億単語から算出))\n",
        "FILE_ID = \"0B7XkCwpI5KDYNlNUTTlSS21pQmM\"\n",
        "FILE_NAME = \"GoogleNews-vectors-negative300.bin.gz\"\n",
        "!wget --load-cookies /tmp/cookies.txt \"https://docs.google.com/uc?export=download&confirm=$(wget --quiet --save-cookies /tmp/cookies.txt --keep-session-cookies --no-check-certificate 'https://docs.google.com/uc?export=download&id=$FILE_ID' -O- | sed -rn 's/.*confirm=([0-9A-Za-z_]+).*/\\1\\n/p')&id=$FILE_ID\" -O $FILE_NAME && rm -rf /tmp/cookies.txt"
      ],
      "execution_count": 77,
      "outputs": [
        {
          "output_type": "stream",
          "name": "stdout",
          "text": [
            "--2021-10-17 08:32:21--  https://docs.google.com/uc?export=download&confirm=veNb&id=0B7XkCwpI5KDYNlNUTTlSS21pQmM\n",
            "Resolving docs.google.com (docs.google.com)... 209.85.200.138, 209.85.200.139, 209.85.200.102, ...\n",
            "Connecting to docs.google.com (docs.google.com)|209.85.200.138|:443... connected.\n",
            "HTTP request sent, awaiting response... 302 Moved Temporarily\n",
            "Location: https://doc-0k-1c-docs.googleusercontent.com/docs/securesc/es06kh8aqs50qa083akmjif9eq1q7utd/0q630npajlrpvb0qhgbc694f8hki6e85/1634459475000/06848720943842814915/01601795175568016299Z/0B7XkCwpI5KDYNlNUTTlSS21pQmM?e=download [following]\n",
            "--2021-10-17 08:32:23--  https://doc-0k-1c-docs.googleusercontent.com/docs/securesc/es06kh8aqs50qa083akmjif9eq1q7utd/0q630npajlrpvb0qhgbc694f8hki6e85/1634459475000/06848720943842814915/01601795175568016299Z/0B7XkCwpI5KDYNlNUTTlSS21pQmM?e=download\n",
            "Resolving doc-0k-1c-docs.googleusercontent.com (doc-0k-1c-docs.googleusercontent.com)... 142.250.148.132, 2607:f8b0:4001:c54::84\n",
            "Connecting to doc-0k-1c-docs.googleusercontent.com (doc-0k-1c-docs.googleusercontent.com)|142.250.148.132|:443... connected.\n",
            "HTTP request sent, awaiting response... 302 Found\n",
            "Location: https://docs.google.com/nonceSigner?nonce=utjehj8sesvla&continue=https://doc-0k-1c-docs.googleusercontent.com/docs/securesc/es06kh8aqs50qa083akmjif9eq1q7utd/0q630npajlrpvb0qhgbc694f8hki6e85/1634459475000/06848720943842814915/01601795175568016299Z/0B7XkCwpI5KDYNlNUTTlSS21pQmM?e%3Ddownload&hash=hr4e06fbrl44aotrd348h1t2ers508l6 [following]\n",
            "--2021-10-17 08:32:23--  https://docs.google.com/nonceSigner?nonce=utjehj8sesvla&continue=https://doc-0k-1c-docs.googleusercontent.com/docs/securesc/es06kh8aqs50qa083akmjif9eq1q7utd/0q630npajlrpvb0qhgbc694f8hki6e85/1634459475000/06848720943842814915/01601795175568016299Z/0B7XkCwpI5KDYNlNUTTlSS21pQmM?e%3Ddownload&hash=hr4e06fbrl44aotrd348h1t2ers508l6\n",
            "Connecting to docs.google.com (docs.google.com)|209.85.200.138|:443... connected.\n",
            "HTTP request sent, awaiting response... 302 Found\n",
            "Location: https://doc-0k-1c-docs.googleusercontent.com/docs/securesc/es06kh8aqs50qa083akmjif9eq1q7utd/0q630npajlrpvb0qhgbc694f8hki6e85/1634459475000/06848720943842814915/01601795175568016299Z/0B7XkCwpI5KDYNlNUTTlSS21pQmM?e=download&nonce=utjehj8sesvla&user=01601795175568016299Z&hash=l5i63rihv1rmkahecu5pgjsg1qs7gfih [following]\n",
            "--2021-10-17 08:32:23--  https://doc-0k-1c-docs.googleusercontent.com/docs/securesc/es06kh8aqs50qa083akmjif9eq1q7utd/0q630npajlrpvb0qhgbc694f8hki6e85/1634459475000/06848720943842814915/01601795175568016299Z/0B7XkCwpI5KDYNlNUTTlSS21pQmM?e=download&nonce=utjehj8sesvla&user=01601795175568016299Z&hash=l5i63rihv1rmkahecu5pgjsg1qs7gfih\n",
            "Connecting to doc-0k-1c-docs.googleusercontent.com (doc-0k-1c-docs.googleusercontent.com)|142.250.148.132|:443... connected.\n",
            "HTTP request sent, awaiting response... 200 OK\n",
            "Length: 1647046227 (1.5G) [application/x-gzip]\n",
            "Saving to: ‘GoogleNews-vectors-negative300.bin.gz’\n",
            "\n",
            "GoogleNews-vectors- 100%[===================>]   1.53G  94.0MB/s    in 17s     \n",
            "\n",
            "2021-10-17 08:32:41 (93.4 MB/s) - ‘GoogleNews-vectors-negative300.bin.gz’ saved [1647046227/1647046227]\n",
            "\n"
          ]
        }
      ]
    },
    {
      "cell_type": "code",
      "metadata": {
        "id": "PUBDDybhnkVB"
      },
      "source": [
        "from gensim.models import KeyedVectors"
      ],
      "execution_count": 3,
      "outputs": []
    },
    {
      "cell_type": "code",
      "metadata": {
        "id": "biMA3WG7nkYH"
      },
      "source": [
        "# load_word2vec_formatは単語をベクトル変換するフォーマット\n",
        "model = KeyedVectors.load_word2vec_format('/content/GoogleNews-vectors-negative300.bin.gz', binary=True)"
      ],
      "execution_count": 4,
      "outputs": []
    },
    {
      "cell_type": "code",
      "metadata": {
        "id": "Awd_WTNXnkbY"
      },
      "source": [
        "# 本来は300個のarray型リストが出てくるが、大きすぎるため、先頭50を抜き出し\n",
        "model['Python'][:50]\n",
        "# 出てきた数値が1000億単語から機会が学習した単語のベクトル"
      ],
      "execution_count": null,
      "outputs": []
    },
    {
      "cell_type": "code",
      "metadata": {
        "id": "p2gzn_zTnlOx"
      },
      "source": [
        "# cos類似度の比較"
      ],
      "execution_count": null,
      "outputs": []
    },
    {
      "cell_type": "code",
      "metadata": {
        "id": "N9kAHifutQBv"
      },
      "source": [
        "# 単語ベクトルをsimilarityで類似度を比較計算できる。1に近ければ近いほど類似度が高い。\n",
        "model.similarity('Japan', 'Japanese')"
      ],
      "execution_count": null,
      "outputs": []
    },
    {
      "cell_type": "code",
      "metadata": {
        "id": "FWKSkvqJtQEp",
        "colab": {
          "base_uri": "https://localhost:8080/"
        },
        "outputId": "99f3099d-87d6-438d-d29d-81bea50c1384"
      },
      "source": [
        "model.similarity('Japan', 'America')"
      ],
      "execution_count": 5,
      "outputs": [
        {
          "output_type": "execute_result",
          "data": {
            "text/plain": [
              "0.39131382"
            ]
          },
          "metadata": {},
          "execution_count": 5
        }
      ]
    },
    {
      "cell_type": "code",
      "metadata": {
        "id": "SwwTN8RetQGu"
      },
      "source": [
        "# 類似度のランキング(Japanと類似度の高い10単語を選出)\n",
        "rank = model.most_similar('Python', topn=10)\n",
        "rank"
      ],
      "execution_count": null,
      "outputs": []
    },
    {
      "cell_type": "code",
      "metadata": {
        "id": "T9c7Ox6rtQKP"
      },
      "source": [
        "# 単語ベクトルの演算('king' - 'male' + 'female')\n",
        "# model['king'] - model['male'] + model['female'] (ベクトルの演算で計算できる)\n",
        "model.most_similar(positive=['King', 'female'], negative=['male'], topn=10)"
      ],
      "execution_count": null,
      "outputs": []
    },
    {
      "cell_type": "code",
      "metadata": {
        "id": "osv_FFZbtQOC"
      },
      "source": [
        "# k-meansでクラスタリング。単語ベクトルモデルから1000語抽出、クラスタリング"
      ],
      "execution_count": null,
      "outputs": []
    },
    {
      "cell_type": "code",
      "metadata": {
        "colab": {
          "base_uri": "https://localhost:8080/"
        },
        "id": "UvHN9DOfKWtv",
        "outputId": "0030e213-34d4-49d9-b62c-c5aa411b758d"
      },
      "source": [
        "max_vocab = 1000\n",
        "vocab = list(model.wv.vocab.keys())[:max_vocab]\n",
        "# wv(word2vecの略)、リスト化して単語を1000個取ってくる\n",
        "vectors = [model.wv[word] for word in vocab]\n",
        "# 内包表記、ベクトルを取ってくる\n"
      ],
      "execution_count": 15,
      "outputs": [
        {
          "output_type": "stream",
          "name": "stderr",
          "text": [
            "/usr/local/lib/python3.7/dist-packages/ipykernel_launcher.py:2: DeprecationWarning: Call to deprecated `wv` (Attribute will be removed in 4.0.0, use self instead).\n",
            "  \n",
            "/usr/local/lib/python3.7/dist-packages/ipykernel_launcher.py:4: DeprecationWarning: Call to deprecated `wv` (Attribute will be removed in 4.0.0, use self instead).\n",
            "  after removing the cwd from sys.path.\n"
          ]
        }
      ]
    },
    {
      "cell_type": "code",
      "metadata": {
        "colab": {
          "base_uri": "https://localhost:8080/"
        },
        "id": "V8UfvrABKhqt",
        "outputId": "b9a16e1a-2091-4f8c-d7b2-b086ad01db72"
      },
      "source": [
        "from sklearn.cluster import KMeans\n",
        "\n",
        "# クラスタリングのグループ数(分ける数)\n",
        "n_clusters = 100\n",
        "kmeans_model = KMeans(n_clusters=n_clusters, verbose=1, random_state=42, n_jobs=-1)\n",
        "kmeans_model.fit(vectors)"
      ],
      "execution_count": 16,
      "outputs": [
        {
          "output_type": "execute_result",
          "data": {
            "text/plain": [
              "KMeans(algorithm='auto', copy_x=True, init='k-means++', max_iter=300,\n",
              "       n_clusters=100, n_init=10, n_jobs=-1, precompute_distances='auto',\n",
              "       random_state=42, tol=0.0001, verbose=1)"
            ]
          },
          "metadata": {},
          "execution_count": 16
        }
      ]
    },
    {
      "cell_type": "code",
      "metadata": {
        "id": "ff2o1jacKht8"
      },
      "source": [
        "from collections import defaultdict\n",
        "cluster_labels = kmeans_model.labels_\n",
        "# クラスター分けした番号を与えている。\n",
        "cluster_to_words = defaultdict(list)\n",
        "# defaultdict初期化されている辞書型リスト\n",
        "for cluster_id, word in zip(cluster_labels, vocab):\n",
        "    cluster_to_words[cluster_id].append(word)\n",
        "# wordとクラスターidをセットで格納する"
      ],
      "execution_count": 18,
      "outputs": []
    },
    {
      "cell_type": "code",
      "metadata": {
        "id": "VpxRdg2tKhxN",
        "colab": {
          "base_uri": "https://localhost:8080/"
        },
        "outputId": "43c1c538-9e06-4e70-c409-a27d06fdabee"
      },
      "source": [
        "for words in cluster_to_words.values():\n",
        "    print(words[:10])\n",
        "# グループ分けされた単語が出てくる。(単語ベクトルでクラスタリングされているので、行で似通った単語が出てくる)"
      ],
      "execution_count": 21,
      "outputs": [
        {
          "output_type": "stream",
          "name": "stdout",
          "text": [
            "['</s>', 'in', 'with', 'the', 'from', 'by', 'which', 'while', 'including', 'between']\n",
            "['for', 'also', 'new', 'work', 'help', 'part', 'use', 'used', 'money', 'support']\n",
            "['that', 'is', 'was', 'as', 'be', 'have', 'has', 'this', 'or', 'but']\n",
            "['on', 'up', 'out', 'over', 'into', 'back', 'off', 'through', 'down', 'under']\n",
            "['##', '###', '1', '2', '3', '5', '4', '6', '7', '8']\n",
            "['The', 'In', 'A', 'But', 'They', 'If', 'And', 'There', 'For', 'As']\n",
            "['said', 'says', 'told', 'added', 'according', 'reported', 'saying', 'statement', 'Mr.', 'Mr']\n",
            "['at', 'am', 'held', 'open', 'close', 'near', 'Center', 'visit', 'St.', 'opening']\n",
            "['not', 'it', 'they', 'do', 'there', 'just', 'what', 'so', 'like', 'if']\n",
            "['are', 'their', 'were', 'all', 'other', 'some', 'most', 'many', 'those', 'such']\n",
            "['I', 'we', 'you', 'We', 'our', 'your', \"'re\", \"'ve\", 'You', \"'m\"]\n",
            "['he', 'his', 'He', 'her', 'she', 'him', 'my', 'She', 'career', 'His']\n",
            "['will', 'would', 'can', 'could', 'should', 'may', 'does', 'want', 'need', 'expected']\n",
            "['####', 'March', 'May', 'June', 'April', 'July', 'December', 'January', 'September', 'November']\n",
            "['an', 'An']\n",
            "['who', 'old', 'former', 'John', 'young', 'senior', 'David', 'Michael', 'age', 'James']\n",
            "['$', 'million', '#,###', '##,###', 'billion', '###,###', 'total']\n",
            "['had', 'after', 'first', 'last', 'before', 'during', 'since', 'next', 'past', 'ago']\n",
            "['year', 'years', 'month', 'months', 'days', 'weeks', 'minutes', 'hours', 'summer', 'hour']\n",
            "['its', 'based', 'public', 'group', 'program', 'show', 'system', '&', 'local', 'plan']\n",
            "['It', 'This', 'That']\n",
            "['two', 'three', 'four', 'five', 'six', 'seven', 'eight', 'nine', 'yards', 'couple']\n",
            "['time', 'against', 'way', 'then', 'right', 'end', 'life', 'point', 'case', 'line']\n",
            "['people', 'them', 'children', 'community', 'women', 'men', 'others', 'residents', 'friends', 'kids']\n",
            "['U.S.', 'American', 'America', 'European', 'British', 'Americans']\n",
            "['percent', '#.#', '%', '#.##', '##.#', 'per', '##.##', 'average', 'per_cent', 'compared']\n",
            "['get', 'go', 'got', 'come', 'put', 'keep', 'find', 'getting', 'coming', 'comes']\n",
            "['did', 'asked', 'trying', 'wanted', 'try', 'worked', 'helped', 'decided', 'agreed', 'tried']\n",
            "['game', 'season', 'games', 'ball', 'league']\n",
            "['company', 'business', 'market', 'companies', 'sales', 'financial', 'industry', 'growth', 'Inc.', 'Company']\n",
            "['team', 'players', 'coach', 'teams', 'player', 'fans', 'club', 'football']\n",
            "['made', 'make', 'making', 'makes', 'create']\n",
            "['second', 'third', 'quarter', '##th', 'fourth', 'net']\n",
            "['state', 'government', 'security', 'law', 'economic', 'party', 'federal', 'political', 'military', 'Iraq']\n",
            "['well', 'good', 'best', 'better', 'great', 'big', 'major', 'hard', 'important', 'strong']\n",
            "['day', 'week', 'today', 'Friday', 'Tuesday', 'Monday', 'night', 'Thursday', 'Wednesday', 'Saturday']\n",
            "['where', 'home', 'area', 'center', 'building', 'house', 'fire', 'outside', 'live', 'areas']\n",
            "['#-#', 'points', '##-##', 'scored', '##-#']\n",
            "['very', 'us', 'me', 'really', 'lot', 'too', 'little', 'things', 'something', 'always']\n",
            "['take', 'came', 'took', 'went', 'taken', 'taking', 'turned', 'takes']\n",
            "['high', 'increase', 'low', 'higher', 'increased', 'lower', 'above', 'below']\n",
            "['By']\n",
            "['world', 'country', 'United_States', 'international', 'countries', 'global', 'nation', 'region', 'Canada', 'states']\n",
            "['play', 'played', 'playing']\n",
            "['AP']\n",
            "['information', 'products', 'data', 'technology', 'research', 'product', 'software', 'systems']\n",
            "['police', 'Police']\n",
            "['school', 'students', 'schools', 'education', 'student', 'college', 'School']\n",
            "['win', 'won', 'victory', 'winning', 'beat', 'title']\n",
            "['run', 'running', 'runs', 'drive']\n",
            "['top', 'No.']\n",
            "['city', 'County', 'district', 'county']\n",
            "['report', 'news', 'media', 'story', 'conference', 'reports', 'News']\n",
            "['family', 'wife', 'parents', 'son', 'mother', 'father']\n",
            "['officials', 'leader', 'leaders', 'groups']\n",
            "['man', 'person', 'woman', 'child', 'someone']\n",
            "['services', 'service', 'access']\n",
            "['pm', '#:##', '##:##']\n",
            "['members', 'member']\n",
            "['early', 'start', 'until', 'again', 'continue', 'started', 'began', 'hope', 'soon', 'continued']\n",
            "['available', 'provide', 'include', 'offer', 'includes', 'included', 'provides', 'offers']\n",
            "['give', 'given', 'received', 'gave', 'sent', 'provided', 'giving', 'receive']\n",
            "['president', 'director', 'President', 'manager', 'executive']\n",
            "['deal', 'contract', 'agreement', 'signed', 'talks']\n",
            "['development', 'project', 'projects', 'construction']\n",
            "['China', 'India', 'Israel', 'Japan', 'Pakistan', 'Iran']\n",
            "['cost', 'costs']\n",
            "['tax', 'income']\n",
            "['decision', 'move', 'change', 'changes', 'turn', 'build', 'step', 'moved', 'improve']\n",
            "['level', 'rate', 'levels']\n",
            "['price', 'prices', 'demand']\n",
            "['board', 'committee', 'Board']\n",
            "['issue', 'issues', 'problem', 'problems', 'situation', 'question', 'crisis', 'questions']\n",
            "['seen', 'saw', 'heard']\n",
            "['oil', 'gas']\n",
            "['customers', 'staff', 'workers', 'jobs', 'employees']\n",
            "['health', 'care', 'medical', 'hospital', 'patients']\n",
            "['Obama', 'Bush']\n",
            "['killed', 'died']\n",
            "['shares', 'stock', 'investors', 'trading']\n",
            "['campaign', 'efforts', 'effort']\n",
            "['North', 'South', 'West']\n",
            "['released', 'release']\n",
            "['fell', 'rose']\n",
            "['match', 'tournament']\n",
            "['election', 'vote']\n",
            "['comment', 'comments']\n",
            "['budget', 'spending']\n",
            "['whose']\n",
            "['House', 'bill', 'Senate', 'Congress']\n",
            "['charges', 'charged', 'arrested']\n",
            "['property', 'land', 'homes']\n",
            "['chief', 'officer', 'officers']\n",
            "['buy', 'sold', 'sale', 'sell']\n",
            "['Council', 'Association']\n",
            "['World']\n",
            "['###-####']\n",
            "['profit', 'earnings']\n",
            "['investigation']\n",
            "['Road']\n"
          ]
        }
      ]
    },
    {
      "cell_type": "code",
      "metadata": {
        "id": "RNhQ_oxCKh3c"
      },
      "source": [
        "# t-SNEでの可視化(次元削減手法のt-SNEを使用して単語ベクトルのベクトル空間を可視化)"
      ],
      "execution_count": null,
      "outputs": []
    }
  ]
}