{
  "nbformat": 4,
  "nbformat_minor": 0,
  "metadata": {
    "colab": {
      "name": "edit_string.ipynb",
      "provenance": [],
      "collapsed_sections": [],
      "authorship_tag": "ABX9TyOfbciZqf0RLbAVRAAc1Pym",
      "include_colab_link": true
    },
    "kernelspec": {
      "name": "python3",
      "display_name": "Python 3"
    },
    "language_info": {
      "name": "python"
    }
  },
  "cells": [
    {
      "cell_type": "markdown",
      "metadata": {
        "id": "view-in-github",
        "colab_type": "text"
      },
      "source": [
        "<a href=\"https://colab.research.google.com/github/sohdacafe/Python_tips/blob/main/edit_string.ipynb\" target=\"_parent\"><img src=\"https://colab.research.google.com/assets/colab-badge.svg\" alt=\"Open In Colab\"/></a>"
      ]
    },
    {
      "cell_type": "code",
      "metadata": {
        "id": "zGmbCQ9N1QAM"
      },
      "source": [
        "str = ['apple', 'banana', 'cherry', 'grapes', 'lemon', 'melon', 'orange', 'peach', 'strawberry']\n",
        "text = 'apple, banana, cherry, grapes, lemon, melon, orange, peach, strawberry' "
      ],
      "execution_count": 72,
      "outputs": []
    },
    {
      "cell_type": "code",
      "metadata": {
        "id": "IMmX3AWYINUh"
      },
      "source": [
        "# 【文字列の結合】_join"
      ],
      "execution_count": 73,
      "outputs": []
    },
    {
      "cell_type": "code",
      "metadata": {
        "colab": {
          "base_uri": "https://localhost:8080/",
          "height": 36
        },
        "id": "P5p-oAiR5a5Z",
        "outputId": "b2a776ff-a43c-4528-d6c6-df3ca460191f"
      },
      "source": [
        "# 文字の結合(区切り文字を指定、.joinメソッド)\n",
        "''.join(str)"
      ],
      "execution_count": 74,
      "outputs": [
        {
          "output_type": "execute_result",
          "data": {
            "application/vnd.google.colaboratory.intrinsic+json": {
              "type": "string"
            },
            "text/plain": [
              "'applebananacherrygrapeslemonmelonorangepeachstrawberry'"
            ]
          },
          "metadata": {},
          "execution_count": 74
        }
      ]
    },
    {
      "cell_type": "code",
      "metadata": {
        "colab": {
          "base_uri": "https://localhost:8080/",
          "height": 36
        },
        "id": "clObrgDU5a8R",
        "outputId": "702d45c5-aec0-42a9-f2d4-832c34800208"
      },
      "source": [
        "# &を区切り文字列に指定\n",
        "'&'.join(str)"
      ],
      "execution_count": 75,
      "outputs": [
        {
          "output_type": "execute_result",
          "data": {
            "application/vnd.google.colaboratory.intrinsic+json": {
              "type": "string"
            },
            "text/plain": [
              "'apple&banana&cherry&grapes&lemon&melon&orange&peach&strawberry'"
            ]
          },
          "metadata": {},
          "execution_count": 75
        }
      ]
    },
    {
      "cell_type": "code",
      "metadata": {
        "colab": {
          "base_uri": "https://localhost:8080/",
          "height": 36
        },
        "id": "8NVNRX7x5a_D",
        "outputId": "f2df4ef2-578a-4d3b-bc85-fcc54a1f3cda"
      },
      "source": [
        "# 引数にリストを直接入れた場合\n",
        "'--'.join(['apple', 'banana', 'cherry'])"
      ],
      "execution_count": 76,
      "outputs": [
        {
          "output_type": "execute_result",
          "data": {
            "application/vnd.google.colaboratory.intrinsic+json": {
              "type": "string"
            },
            "text/plain": [
              "'apple--banana--cherry'"
            ]
          },
          "metadata": {},
          "execution_count": 76
        }
      ]
    },
    {
      "cell_type": "code",
      "metadata": {
        "colab": {
          "base_uri": "https://localhost:8080/",
          "height": 36
        },
        "id": "TcpA62EZ7Iw1",
        "outputId": "f6400571-597c-497b-aaf7-0d330de17d0d"
      },
      "source": [
        "# 区切り文字列を指定し、文字列を分割\n",
        "'/'.join('apple')"
      ],
      "execution_count": 77,
      "outputs": [
        {
          "output_type": "execute_result",
          "data": {
            "application/vnd.google.colaboratory.intrinsic+json": {
              "type": "string"
            },
            "text/plain": [
              "'a/p/p/l/e'"
            ]
          },
          "metadata": {},
          "execution_count": 77
        }
      ]
    },
    {
      "cell_type": "code",
      "metadata": {
        "id": "F1nfCFw_7fMt"
      },
      "source": [
        "# 【文字列の分割】_split"
      ],
      "execution_count": 78,
      "outputs": []
    },
    {
      "cell_type": "code",
      "metadata": {
        "colab": {
          "base_uri": "https://localhost:8080/"
        },
        "id": "KKq1A1wnIUFc",
        "outputId": "dd807c29-3cbb-4aa2-885d-f859df232502"
      },
      "source": [
        "# 指定した区切り文字で分割し、リストに格納\n",
        "word_list = text.split(',') #文字列でも分割可能\n",
        "word_list"
      ],
      "execution_count": 79,
      "outputs": [
        {
          "output_type": "execute_result",
          "data": {
            "text/plain": [
              "['apple',\n",
              " ' banana',\n",
              " ' cherry',\n",
              " ' grapes',\n",
              " ' lemon',\n",
              " ' melon',\n",
              " ' orange',\n",
              " ' peach',\n",
              " ' strawberry']"
            ]
          },
          "metadata": {},
          "execution_count": 79
        }
      ]
    },
    {
      "cell_type": "code",
      "metadata": {
        "colab": {
          "base_uri": "https://localhost:8080/"
        },
        "id": "YrzGj70NIUH-",
        "outputId": "a79a7178-e5b3-411e-d471-953f4dfd5ae2"
      },
      "source": [
        "#引数を指定しない場合はスペース/タブで分割\n",
        "word_list = text.split()\n",
        "word_list"
      ],
      "execution_count": 80,
      "outputs": [
        {
          "output_type": "execute_result",
          "data": {
            "text/plain": [
              "['apple,',\n",
              " 'banana,',\n",
              " 'cherry,',\n",
              " 'grapes,',\n",
              " 'lemon,',\n",
              " 'melon,',\n",
              " 'orange,',\n",
              " 'peach,',\n",
              " 'strawberry']"
            ]
          },
          "metadata": {},
          "execution_count": 80
        }
      ]
    },
    {
      "cell_type": "code",
      "metadata": {
        "id": "oxhflb9UIUKz"
      },
      "source": [
        "# 【文字列を改行で分割】_splitlines\n",
        "str_n = 'apple\\n banana\\n cherry\\n grapes\\n lemon\\n melon\\n orange\\n peach\\n strawberry' # 改行コードが含まれる文字列"
      ],
      "execution_count": 81,
      "outputs": []
    },
    {
      "cell_type": "code",
      "metadata": {
        "colab": {
          "base_uri": "https://localhost:8080/"
        },
        "id": "qQIRibsqIUNl",
        "outputId": "f2afce71-94ac-4f79-8ea1-71146abd3fbc"
      },
      "source": [
        "# 改行コードで分割し、リストに格納\n",
        "str_n.splitlines()"
      ],
      "execution_count": 82,
      "outputs": [
        {
          "output_type": "execute_result",
          "data": {
            "text/plain": [
              "['apple',\n",
              " ' banana',\n",
              " ' cherry',\n",
              " ' grapes',\n",
              " ' lemon',\n",
              " ' melon',\n",
              " ' orange',\n",
              " ' peach',\n",
              " ' strawberry']"
            ]
          },
          "metadata": {},
          "execution_count": 82
        }
      ]
    },
    {
      "cell_type": "code",
      "metadata": {
        "id": "OrXgR5y-KoPx"
      },
      "source": [
        "# 【文字列を左右揃え、中央揃えにする】_str.rjust / ljust / center\n",
        "str_p = 'python'"
      ],
      "execution_count": 83,
      "outputs": []
    },
    {
      "cell_type": "code",
      "metadata": {
        "colab": {
          "base_uri": "https://localhost:8080/",
          "height": 36
        },
        "id": "LG-rmx1IIUQT",
        "outputId": "2a6274c2-bc8f-4010-c542-66c23ac2ed47"
      },
      "source": [
        "# 10文字として右揃え(4文字分右に移動)\n",
        "str_p.rjust(10)"
      ],
      "execution_count": 84,
      "outputs": [
        {
          "output_type": "execute_result",
          "data": {
            "application/vnd.google.colaboratory.intrinsic+json": {
              "type": "string"
            },
            "text/plain": [
              "'    python'"
            ]
          },
          "metadata": {},
          "execution_count": 84
        }
      ]
    },
    {
      "cell_type": "code",
      "metadata": {
        "colab": {
          "base_uri": "https://localhost:8080/",
          "height": 36
        },
        "id": "t9qBoZWSIUUN",
        "outputId": "c7290f14-7f87-4864-dc94-327504949d4d"
      },
      "source": [
        "# 空白部分を埋める文字を指定\n",
        "str_p.rjust(10, '+')"
      ],
      "execution_count": 85,
      "outputs": [
        {
          "output_type": "execute_result",
          "data": {
            "application/vnd.google.colaboratory.intrinsic+json": {
              "type": "string"
            },
            "text/plain": [
              "'++++python'"
            ]
          },
          "metadata": {},
          "execution_count": 85
        }
      ]
    },
    {
      "cell_type": "code",
      "metadata": {
        "colab": {
          "base_uri": "https://localhost:8080/",
          "height": 36
        },
        "id": "F1LE0ec5RLqA",
        "outputId": "1af6501a-78eb-494b-ea15-923b1b62a565"
      },
      "source": [
        "str_p.center(10, '+')"
      ],
      "execution_count": 86,
      "outputs": [
        {
          "output_type": "execute_result",
          "data": {
            "application/vnd.google.colaboratory.intrinsic+json": {
              "type": "string"
            },
            "text/plain": [
              "'++python++'"
            ]
          },
          "metadata": {},
          "execution_count": 86
        }
      ]
    },
    {
      "cell_type": "code",
      "metadata": {
        "id": "VyQLZStRRLsm"
      },
      "source": [
        "# 【両端の文字列削除する】_str.strip"
      ],
      "execution_count": 87,
      "outputs": []
    },
    {
      "cell_type": "code",
      "metadata": {
        "colab": {
          "base_uri": "https://localhost:8080/",
          "height": 36
        },
        "id": "AufTHv4YSDZR",
        "outputId": "bcaa8019-f401-4302-f6d4-cc21e2f4d735"
      },
      "source": [
        "str_p_ = '  python  '\n",
        "str_p_.strip()"
      ],
      "execution_count": 88,
      "outputs": [
        {
          "output_type": "execute_result",
          "data": {
            "application/vnd.google.colaboratory.intrinsic+json": {
              "type": "string"
            },
            "text/plain": [
              "'python'"
            ]
          },
          "metadata": {},
          "execution_count": 88
        }
      ]
    },
    {
      "cell_type": "code",
      "metadata": {
        "colab": {
          "base_uri": "https://localhost:8080/",
          "height": 36
        },
        "id": "BLytcTlxSDhi",
        "outputId": "a7c97de2-13a7-4e45-d084-757179396a8c"
      },
      "source": [
        "str_px = 'xxx_python_xxx'\n",
        "str_px.strip('_xxx')"
      ],
      "execution_count": 89,
      "outputs": [
        {
          "output_type": "execute_result",
          "data": {
            "application/vnd.google.colaboratory.intrinsic+json": {
              "type": "string"
            },
            "text/plain": [
              "'python'"
            ]
          },
          "metadata": {},
          "execution_count": 89
        }
      ]
    },
    {
      "cell_type": "code",
      "metadata": {
        "id": "pv93m48rSDkk"
      },
      "source": [
        "# 【左端の文字列削除する】_str.lstrip"
      ],
      "execution_count": 90,
      "outputs": []
    },
    {
      "cell_type": "code",
      "metadata": {
        "colab": {
          "base_uri": "https://localhost:8080/",
          "height": 36
        },
        "id": "xKmLFH_ZSDny",
        "outputId": "618892c7-834f-49fa-dd56-413cebd73775"
      },
      "source": [
        "str_p_ = '  python  '\n",
        "str_p_.lstrip() # 引数を指定しない場合はスペース、タブ、改行を削除"
      ],
      "execution_count": 91,
      "outputs": [
        {
          "output_type": "execute_result",
          "data": {
            "application/vnd.google.colaboratory.intrinsic+json": {
              "type": "string"
            },
            "text/plain": [
              "'python  '"
            ]
          },
          "metadata": {},
          "execution_count": 91
        }
      ]
    },
    {
      "cell_type": "code",
      "metadata": {
        "colab": {
          "base_uri": "https://localhost:8080/",
          "height": 36
        },
        "id": "PFVvqm7xSDqV",
        "outputId": "8b9bb616-3ff4-4fec-a57b-251d84b211d5"
      },
      "source": [
        "str_px = 'xxx_python_xxx' # 引数に削除する文字列を指定\n",
        "str_px.lstrip('_xxx')"
      ],
      "execution_count": 92,
      "outputs": [
        {
          "output_type": "execute_result",
          "data": {
            "application/vnd.google.colaboratory.intrinsic+json": {
              "type": "string"
            },
            "text/plain": [
              "'python_xxx'"
            ]
          },
          "metadata": {},
          "execution_count": 92
        }
      ]
    },
    {
      "cell_type": "code",
      "metadata": {
        "id": "i9LOr0ZDSDsO"
      },
      "source": [
        "# 【文字列を変換】_str.replace"
      ],
      "execution_count": 93,
      "outputs": []
    },
    {
      "cell_type": "code",
      "metadata": {
        "colab": {
          "base_uri": "https://localhost:8080/",
          "height": 36
        },
        "id": "e5BA4Ti7SDv1",
        "outputId": "e545c24f-a9d2-4240-c54a-12cf1633c5d2"
      },
      "source": [
        "text.replace('apple', 'banana')"
      ],
      "execution_count": 94,
      "outputs": [
        {
          "output_type": "execute_result",
          "data": {
            "application/vnd.google.colaboratory.intrinsic+json": {
              "type": "string"
            },
            "text/plain": [
              "'banana, banana, cherry, grapes, lemon, melon, orange, peach, strawberry'"
            ]
          },
          "metadata": {},
          "execution_count": 94
        }
      ]
    },
    {
      "cell_type": "code",
      "metadata": {
        "colab": {
          "base_uri": "https://localhost:8080/",
          "height": 36
        },
        "id": "d4LdrGrzWvGk",
        "outputId": "df3a51d6-dec9-4a8d-e494-8c45e4394254"
      },
      "source": [
        "text.replace('apple', '') # 置き換え後文字列を空にすると文字列が削除される"
      ],
      "execution_count": 95,
      "outputs": [
        {
          "output_type": "execute_result",
          "data": {
            "application/vnd.google.colaboratory.intrinsic+json": {
              "type": "string"
            },
            "text/plain": [
              "', banana, cherry, grapes, lemon, melon, orange, peach, strawberry'"
            ]
          },
          "metadata": {},
          "execution_count": 95
        }
      ]
    },
    {
      "cell_type": "code",
      "metadata": {
        "colab": {
          "base_uri": "https://localhost:8080/",
          "height": 36
        },
        "id": "kikb0PESXxN7",
        "outputId": "75909036-8c4e-45d4-f7e9-b304b99c2ecf"
      },
      "source": [
        "text.replace(',', '\\n') # , 区切りを\\n(改行)に変換"
      ],
      "execution_count": 96,
      "outputs": [
        {
          "output_type": "execute_result",
          "data": {
            "application/vnd.google.colaboratory.intrinsic+json": {
              "type": "string"
            },
            "text/plain": [
              "'apple\\n banana\\n cherry\\n grapes\\n lemon\\n melon\\n orange\\n peach\\n strawberry'"
            ]
          },
          "metadata": {},
          "execution_count": 96
        }
      ]
    },
    {
      "cell_type": "code",
      "metadata": {
        "id": "mO4tTGEaYMua"
      },
      "source": [
        "# 【大文字と小文字の入れ替え】_str.swapcase"
      ],
      "execution_count": 96,
      "outputs": []
    },
    {
      "cell_type": "code",
      "metadata": {
        "colab": {
          "base_uri": "https://localhost:8080/",
          "height": 36
        },
        "id": "RemT_yjvYRFL",
        "outputId": "91944efd-556a-4a17-ddaa-74e0d71f73ae"
      },
      "source": [
        "# 大文字と小文字の入れ替え\n",
        "text.swapcase()"
      ],
      "execution_count": 97,
      "outputs": [
        {
          "output_type": "execute_result",
          "data": {
            "application/vnd.google.colaboratory.intrinsic+json": {
              "type": "string"
            },
            "text/plain": [
              "'APPLE, BANANA, CHERRY, GRAPES, LEMON, MELON, ORANGE, PEACH, STRAWBERRY'"
            ]
          },
          "metadata": {},
          "execution_count": 97
        }
      ]
    },
    {
      "cell_type": "code",
      "metadata": {
        "colab": {
          "base_uri": "https://localhost:8080/"
        },
        "id": "khCE7exIYRIG",
        "outputId": "87a8f32d-6bb9-485a-e47e-04fff11a4e7b"
      },
      "source": [
        "# 全て大文字, 全て小文字に変換\n",
        "text.upper(), text.lower()"
      ],
      "execution_count": 100,
      "outputs": [
        {
          "output_type": "execute_result",
          "data": {
            "text/plain": [
              "('APPLE, BANANA, CHERRY, GRAPES, LEMON, MELON, ORANGE, PEACH, STRAWBERRY',\n",
              " 'apple, banana, cherry, grapes, lemon, melon, orange, peach, strawberry')"
            ]
          },
          "metadata": {},
          "execution_count": 100
        }
      ]
    },
    {
      "cell_type": "code",
      "metadata": {
        "colab": {
          "base_uri": "https://localhost:8080/"
        },
        "id": "9wGQmaRwYRUR",
        "outputId": "1e94bd75-50b6-457c-9932-417cea99a574"
      },
      "source": [
        "# 先頭の文字だけ大文字, 単語の先頭だけ大文字にする\n",
        "text.capitalize(), text.title()"
      ],
      "execution_count": 102,
      "outputs": [
        {
          "output_type": "execute_result",
          "data": {
            "text/plain": [
              "('Apple, banana, cherry, grapes, lemon, melon, orange, peach, strawberry',\n",
              " 'Apple, Banana, Cherry, Grapes, Lemon, Melon, Orange, Peach, Strawberry')"
            ]
          },
          "metadata": {},
          "execution_count": 102
        }
      ]
    },
    {
      "cell_type": "code",
      "metadata": {
        "colab": {
          "base_uri": "https://localhost:8080/"
        },
        "id": "-n9kY9haYRXc",
        "outputId": "740ad01c-12be-46ef-cdb3-3c565e46aa8f"
      },
      "source": [
        "# 文字列が全て大文字、小文字か判定\n",
        "text.isupper(), text.islower()"
      ],
      "execution_count": 104,
      "outputs": [
        {
          "output_type": "execute_result",
          "data": {
            "text/plain": [
              "(False, True)"
            ]
          },
          "metadata": {},
          "execution_count": 104
        }
      ]
    },
    {
      "cell_type": "code",
      "metadata": {
        "colab": {
          "base_uri": "https://localhost:8080/"
        },
        "id": "S7t6y5NE1htk",
        "outputId": "8a114716-47bd-4585-dbdc-26ed702f2a66"
      },
      "source": [
        "# 【特定の文字が含まれているか確認】 _str.find\n",
        "text.find('apple'), text.find('beef') #指定した文字が含まれる場合、始まり位置が返ってくる"
      ],
      "execution_count": 109,
      "outputs": [
        {
          "output_type": "execute_result",
          "data": {
            "text/plain": [
              "(0, -1)"
            ]
          },
          "metadata": {},
          "execution_count": 109
        }
      ]
    },
    {
      "cell_type": "code",
      "metadata": {
        "colab": {
          "base_uri": "https://localhost:8080/"
        },
        "id": "lBP9KTKW1hxM",
        "outputId": "441c8a23-5612-451b-9de7-34dad6d021e5"
      },
      "source": [
        "# 【文字列が英字か判定】 _str.isalpha\n",
        "str_0 = 'apple' \n",
        "str_1 = 'apple123'\n",
        "str_2 = '123'\n",
        "str_0.isalpha(), str_1.isalpha(), str_2.isalpha(), str_2.isnumeric() "
      ],
      "execution_count": 117,
      "outputs": [
        {
          "output_type": "execute_result",
          "data": {
            "text/plain": [
              "(True, False, False, True)"
            ]
          },
          "metadata": {},
          "execution_count": 117
        }
      ]
    },
    {
      "cell_type": "code",
      "metadata": {
        "colab": {
          "base_uri": "https://localhost:8080/"
        },
        "id": "dvR8U9nf1h_c",
        "outputId": "3ddedade-a858-4208-8b7b-09685c3ee975"
      },
      "source": [
        "# 【文字列が数字か判定】 _str.isdegit (isnumericは漢数字でも数字と判断する)\n",
        "str_0.isdigit(), str_1.isdigit(), str_2.isdigit()"
      ],
      "execution_count": 121,
      "outputs": [
        {
          "output_type": "execute_result",
          "data": {
            "text/plain": [
              "(False, False, True)"
            ]
          },
          "metadata": {},
          "execution_count": 121
        }
      ]
    },
    {
      "cell_type": "code",
      "metadata": {
        "colab": {
          "base_uri": "https://localhost:8080/"
        },
        "id": "hg_wSudWYRa1",
        "outputId": "d8607d72-a977-4eef-e142-35bf15ac084a"
      },
      "source": [
        "# 【文字列が数字のみか判定】 _str.isdecimal\n",
        "str_0.isdecimal(), str_1.isdecimal(), str_2.isdecimal()"
      ],
      "execution_count": 122,
      "outputs": [
        {
          "output_type": "execute_result",
          "data": {
            "text/plain": [
              "(False, False, True)"
            ]
          },
          "metadata": {},
          "execution_count": 122
        }
      ]
    },
    {
      "cell_type": "code",
      "metadata": {
        "id": "jyXT30QxK70B"
      },
      "source": [
        "# isalnum, isspace, isprintable"
      ],
      "execution_count": null,
      "outputs": []
    },
    {
      "cell_type": "code",
      "metadata": {
        "id": "IZ_URhZwK72t"
      },
      "source": [
        ""
      ],
      "execution_count": null,
      "outputs": []
    },
    {
      "cell_type": "code",
      "metadata": {
        "id": "K_5QRGMMK75O"
      },
      "source": [
        ""
      ],
      "execution_count": null,
      "outputs": []
    },
    {
      "cell_type": "code",
      "metadata": {
        "id": "xinK4sijK777"
      },
      "source": [
        ""
      ],
      "execution_count": null,
      "outputs": []
    },
    {
      "cell_type": "code",
      "metadata": {
        "id": "qze_60KyK7_T"
      },
      "source": [
        ""
      ],
      "execution_count": null,
      "outputs": []
    }
  ]
}