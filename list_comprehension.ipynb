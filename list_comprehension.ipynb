{
  "nbformat": 4,
  "nbformat_minor": 0,
  "metadata": {
    "colab": {
      "name": "list_comprehension.ipynb",
      "provenance": [],
      "collapsed_sections": [],
      "authorship_tag": "ABX9TyN/A91KUAXxzg8YHDSa40EP",
      "include_colab_link": true
    },
    "kernelspec": {
      "name": "python3",
      "display_name": "Python 3"
    },
    "language_info": {
      "name": "python"
    }
  },
  "cells": [
    {
      "cell_type": "markdown",
      "metadata": {
        "id": "view-in-github",
        "colab_type": "text"
      },
      "source": [
        "<a href=\"https://colab.research.google.com/github/sohdacafe/Python_tips/blob/main/list_comprehension.ipynb\" target=\"_parent\"><img src=\"https://colab.research.google.com/assets/colab-badge.svg\" alt=\"Open In Colab\"/></a>"
      ]
    },
    {
      "cell_type": "code",
      "metadata": {
        "id": "JqO_2udgaNRB"
      },
      "source": [
        "# 内包表記(list comprehension)\n",
        "# for文での繰り返し・リスト追加を1行分で実行する構文構造\n"
      ],
      "execution_count": null,
      "outputs": []
    },
    {
      "cell_type": "code",
      "metadata": {
        "id": "sAVQXO_Va6KU"
      },
      "source": [
        "import random"
      ],
      "execution_count": 15,
      "outputs": []
    },
    {
      "cell_type": "code",
      "metadata": {
        "id": "3wXCTlK1dK9O"
      },
      "source": [
        "# for文表記"
      ],
      "execution_count": null,
      "outputs": []
    },
    {
      "cell_type": "code",
      "metadata": {
        "colab": {
          "base_uri": "https://localhost:8080/"
        },
        "id": "cCOO-s5ba6n7",
        "outputId": "c7c1cd33-e347-4e12-afda-e22b6ab53890"
      },
      "source": [
        "random.randint(1, 100)"
      ],
      "execution_count": 16,
      "outputs": [
        {
          "output_type": "execute_result",
          "data": {
            "text/plain": [
              "17"
            ]
          },
          "metadata": {},
          "execution_count": 16
        }
      ]
    },
    {
      "cell_type": "code",
      "metadata": {
        "id": "S208TMawbFgb"
      },
      "source": [
        "data = []\n",
        "for _ in range(100):\n",
        "    x = random.randint(1,100)\n",
        "    data.append(x)\n",
        "# 乱数xをn個生成\n",
        "# 一時的に値を格納する場合に'_'を使う"
      ],
      "execution_count": 17,
      "outputs": []
    },
    {
      "cell_type": "code",
      "metadata": {
        "colab": {
          "base_uri": "https://localhost:8080/"
        },
        "id": "ORDaM1TjbFjR",
        "outputId": "fddfa61b-f3e4-408a-e905-04190f359e2b"
      },
      "source": [
        "data[:10]"
      ],
      "execution_count": 21,
      "outputs": [
        {
          "output_type": "execute_result",
          "data": {
            "text/plain": [
              "[18, 4, 94, 91, 23, 80, 14, 50, 86, 94]"
            ]
          },
          "metadata": {},
          "execution_count": 21
        }
      ]
    },
    {
      "cell_type": "code",
      "metadata": {
        "id": "jScrgq9HbFl6"
      },
      "source": [
        "data_10x = []\n",
        "# 10倍した値を格納\n",
        "for datum in data:\n",
        "    data_10x.append(datum*10)"
      ],
      "execution_count": 18,
      "outputs": []
    },
    {
      "cell_type": "code",
      "metadata": {
        "colab": {
          "base_uri": "https://localhost:8080/"
        },
        "id": "7qqdwUEJazyP",
        "outputId": "8555eee4-91a7-41d9-a64d-13bc1b80b9aa"
      },
      "source": [
        "data_10x[:10]"
      ],
      "execution_count": 19,
      "outputs": [
        {
          "output_type": "execute_result",
          "data": {
            "text/plain": [
              "[180, 40, 940, 910, 230, 800, 140, 500, 860, 940]"
            ]
          },
          "metadata": {},
          "execution_count": 19
        }
      ]
    },
    {
      "cell_type": "code",
      "metadata": {
        "id": "jn4n_vh7a0iw"
      },
      "source": [
        "# 内包表記\n",
        "# []の中にfor文を記載、格納したい値を前に記述"
      ],
      "execution_count": null,
      "outputs": []
    },
    {
      "cell_type": "code",
      "metadata": {
        "id": "MLYnlcDOa0ll"
      },
      "source": [
        "new_data_10x = [datum*10 for datum in data]"
      ],
      "execution_count": 23,
      "outputs": []
    },
    {
      "cell_type": "code",
      "metadata": {
        "colab": {
          "base_uri": "https://localhost:8080/"
        },
        "id": "Ir0Rk9mfa0-I",
        "outputId": "4d4c7e81-76f9-46b4-c61b-e1bb11ffa258"
      },
      "source": [
        "new_data_10x[:10]"
      ],
      "execution_count": 25,
      "outputs": [
        {
          "output_type": "execute_result",
          "data": {
            "text/plain": [
              "[180, 40, 940, 910, 230, 800, 140, 500, 860, 940]"
            ]
          },
          "metadata": {},
          "execution_count": 25
        }
      ]
    },
    {
      "cell_type": "code",
      "metadata": {
        "id": "oN9VuvtBa1AZ"
      },
      "source": [
        "# for, if文\n",
        "# データから奇数のみ取り出し"
      ],
      "execution_count": null,
      "outputs": []
    },
    {
      "cell_type": "code",
      "metadata": {
        "id": "yBUKQ-uma1TV"
      },
      "source": [
        "data_odd = []\n",
        "for datum in data:\n",
        "    if datum % 2!=0:\n",
        "        data_odd.append(datum)"
      ],
      "execution_count": 26,
      "outputs": []
    },
    {
      "cell_type": "code",
      "metadata": {
        "colab": {
          "base_uri": "https://localhost:8080/"
        },
        "id": "7RJ_2uCla1V_",
        "outputId": "49f52e94-f757-4dfe-8f04-10809a069bd4"
      },
      "source": [
        "data_odd[:10]"
      ],
      "execution_count": 28,
      "outputs": [
        {
          "output_type": "execute_result",
          "data": {
            "text/plain": [
              "[91, 23, 47, 99, 23, 87, 23, 59, 7, 43]"
            ]
          },
          "metadata": {},
          "execution_count": 28
        }
      ]
    },
    {
      "cell_type": "code",
      "metadata": {
        "id": "yEidevRxvr0p"
      },
      "source": [
        "# 内包表記のif文は後ろに記載\n",
        "new_data_odd = [datum for datum in data if datum % 2!=0]"
      ],
      "execution_count": 30,
      "outputs": []
    },
    {
      "cell_type": "code",
      "metadata": {
        "colab": {
          "base_uri": "https://localhost:8080/"
        },
        "id": "xjRKxlN2v8KC",
        "outputId": "1505954e-f89c-494a-c92a-6dc6e155a951"
      },
      "source": [
        "new_data_odd[:10]"
      ],
      "execution_count": 32,
      "outputs": [
        {
          "output_type": "execute_result",
          "data": {
            "text/plain": [
              "[91, 23, 47, 99, 23, 87, 23, 59, 7, 43]"
            ]
          },
          "metadata": {},
          "execution_count": 32
        }
      ]
    },
    {
      "cell_type": "code",
      "metadata": {
        "id": "8ABqpA-EwAo8"
      },
      "source": [
        "# for, ifelse文\n",
        "# データから50未満の場合、100倍"
      ],
      "execution_count": null,
      "outputs": []
    },
    {
      "cell_type": "code",
      "metadata": {
        "id": "jcL-me2WwcoH"
      },
      "source": [
        "data_50 = []\n",
        "for datum in data:\n",
        "    if datum >= 50:\n",
        "        data_50.append(datum)\n",
        "    else:\n",
        "        data_50.append(datum*100)"
      ],
      "execution_count": 33,
      "outputs": []
    },
    {
      "cell_type": "code",
      "metadata": {
        "colab": {
          "base_uri": "https://localhost:8080/"
        },
        "id": "ET68yi5ywcrA",
        "outputId": "1459d252-ec53-4906-95a2-b3616d90afe0"
      },
      "source": [
        "data_50[:10]"
      ],
      "execution_count": 34,
      "outputs": [
        {
          "output_type": "execute_result",
          "data": {
            "text/plain": [
              "[1800, 400, 94, 91, 2300, 80, 1400, 50, 86, 94]"
            ]
          },
          "metadata": {},
          "execution_count": 34
        }
      ]
    },
    {
      "cell_type": "code",
      "metadata": {
        "id": "mFY0bkdQwctg"
      },
      "source": [
        "# 内包表記のif-else文はifを前側に記載\n",
        "new_data_50 = [datum if datum >=50 else datum*100 for datum in data]"
      ],
      "execution_count": 35,
      "outputs": []
    },
    {
      "cell_type": "code",
      "metadata": {
        "colab": {
          "base_uri": "https://localhost:8080/"
        },
        "id": "FON-pgSjwcwM",
        "outputId": "afb0e837-ce28-4884-a391-e73be6c38419"
      },
      "source": [
        "new_data_50[:10]"
      ],
      "execution_count": 37,
      "outputs": [
        {
          "output_type": "execute_result",
          "data": {
            "text/plain": [
              "[1800, 400, 94, 91, 2300, 80, 1400, 50, 86, 94]"
            ]
          },
          "metadata": {},
          "execution_count": 37
        }
      ]
    },
    {
      "cell_type": "code",
      "metadata": {
        "id": "OkbAAKbLxVbm"
      },
      "source": [
        "# FizzBuzz問題"
      ],
      "execution_count": null,
      "outputs": []
    },
    {
      "cell_type": "code",
      "metadata": {
        "id": "GzbJLONExlGy"
      },
      "source": [
        "num = []\n",
        "for number in range(1,51):\n",
        "    if number %15 ==0:\n",
        "        num.append('FizzBuzz')\n",
        "    elif number %5 ==0:\n",
        "        num.append('Buzz')\n",
        "    elif number %3 ==0:\n",
        "        num.append('Fizz')\n",
        "    else:\n",
        "        num.append(number)"
      ],
      "execution_count": 52,
      "outputs": []
    },
    {
      "cell_type": "code",
      "metadata": {
        "colab": {
          "base_uri": "https://localhost:8080/"
        },
        "id": "cDv4FM4XxlJj",
        "outputId": "0089c2a0-6049-4faf-d0a7-44045455fb5c"
      },
      "source": [
        "num"
      ],
      "execution_count": 53,
      "outputs": [
        {
          "output_type": "execute_result",
          "data": {
            "text/plain": [
              "[1,\n",
              " 2,\n",
              " 'Fizz',\n",
              " 4,\n",
              " 'Buzz',\n",
              " 'Fizz',\n",
              " 7,\n",
              " 8,\n",
              " 'Fizz',\n",
              " 'Buzz',\n",
              " 11,\n",
              " 'Fizz',\n",
              " 13,\n",
              " 14,\n",
              " 'FizzBuzz',\n",
              " 16,\n",
              " 17,\n",
              " 'Fizz',\n",
              " 19,\n",
              " 'Buzz',\n",
              " 'Fizz',\n",
              " 22,\n",
              " 23,\n",
              " 'Fizz',\n",
              " 'Buzz',\n",
              " 26,\n",
              " 'Fizz',\n",
              " 28,\n",
              " 29,\n",
              " 'FizzBuzz',\n",
              " 31,\n",
              " 32,\n",
              " 'Fizz',\n",
              " 34,\n",
              " 'Buzz',\n",
              " 'Fizz',\n",
              " 37,\n",
              " 38,\n",
              " 'Fizz',\n",
              " 'Buzz',\n",
              " 41,\n",
              " 'Fizz',\n",
              " 43,\n",
              " 44,\n",
              " 'FizzBuzz',\n",
              " 46,\n",
              " 47,\n",
              " 'Fizz',\n",
              " 49,\n",
              " 'Buzz']"
            ]
          },
          "metadata": {},
          "execution_count": 53
        }
      ]
    },
    {
      "cell_type": "code",
      "metadata": {
        "id": "aLUqHuwuxlM8"
      },
      "source": [
        "new_num = ['FizzBuzz' if i % 15==0 else 'Fizz' if i %3==0 else 'Buzz' if i %5==0 else i for i in range(1,51)]"
      ],
      "execution_count": 62,
      "outputs": []
    },
    {
      "cell_type": "code",
      "metadata": {
        "colab": {
          "base_uri": "https://localhost:8080/"
        },
        "id": "HTF3wDRf10m8",
        "outputId": "d3dd374a-4bb1-45de-9ee1-731fce026e30"
      },
      "source": [
        "new_num"
      ],
      "execution_count": 63,
      "outputs": [
        {
          "output_type": "execute_result",
          "data": {
            "text/plain": [
              "[1,\n",
              " 2,\n",
              " 'Fizz',\n",
              " 4,\n",
              " 'Buzz',\n",
              " 'Fizz',\n",
              " 7,\n",
              " 8,\n",
              " 'Fizz',\n",
              " 'Buzz',\n",
              " 11,\n",
              " 'Fizz',\n",
              " 13,\n",
              " 14,\n",
              " 'FizzBuzz',\n",
              " 16,\n",
              " 17,\n",
              " 'Fizz',\n",
              " 19,\n",
              " 'Buzz',\n",
              " 'Fizz',\n",
              " 22,\n",
              " 23,\n",
              " 'Fizz',\n",
              " 'Buzz',\n",
              " 26,\n",
              " 'Fizz',\n",
              " 28,\n",
              " 29,\n",
              " 'FizzBuzz',\n",
              " 31,\n",
              " 32,\n",
              " 'Fizz',\n",
              " 34,\n",
              " 'Buzz',\n",
              " 'Fizz',\n",
              " 37,\n",
              " 38,\n",
              " 'Fizz',\n",
              " 'Buzz',\n",
              " 41,\n",
              " 'Fizz',\n",
              " 43,\n",
              " 44,\n",
              " 'FizzBuzz',\n",
              " 46,\n",
              " 47,\n",
              " 'Fizz',\n",
              " 49,\n",
              " 'Buzz']"
            ]
          },
          "metadata": {},
          "execution_count": 63
        }
      ]
    },
    {
      "cell_type": "code",
      "metadata": {
        "id": "15-RvMSr2pfB"
      },
      "source": [
        ""
      ],
      "execution_count": null,
      "outputs": []
    }
  ]
}